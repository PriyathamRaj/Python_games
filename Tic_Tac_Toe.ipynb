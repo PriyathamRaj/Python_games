{
 "cells": [
  {
   "cell_type": "code",
   "execution_count": 1,
   "metadata": {
    "collapsed": true
   },
   "outputs": [],
   "source": [
    "def drawboard(board):\n",
    "    print('   |   |')\n",
    "    print(' '+ board[7] + ' | ' + board[8] + ' | ' + board[9])\n",
    "    print('   |   |')\n",
    "    print('-----------')\n",
    "    print('   |   |')\n",
    "    print(' '+ board[4] + ' | ' + board[5] + ' | ' + board[6])\n",
    "    print('   |   |')\n",
    "    print('-----------')\n",
    "    print('   |   |')\n",
    "    print(' '+ board[1] + ' | ' + board[2] + ' | ' + board[3])\n",
    "    print('   |   |')"
   ]
  },
  {
   "cell_type": "code",
   "execution_count": 2,
   "metadata": {
    "collapsed": true
   },
   "outputs": [],
   "source": [
    "def getletters():\n",
    "    print('Do you want to be X? y or n')\n",
    "    if input().lower().startswith('y'):\n",
    "        playerletter, computerletter = ['X', 'O']\n",
    "    else:\n",
    "        playerletter, computerletter = ['O', 'X']\n",
    "    return playerletter, computerletter"
   ]
  },
  {
   "cell_type": "code",
   "execution_count": 3,
   "metadata": {
    "collapsed": true
   },
   "outputs": [],
   "source": [
    "def whogoesfirst():\n",
    "    print('Do you want to go first? y or n')\n",
    "    if input().lower().startswith('y'):\n",
    "        return 'player'\n",
    "    else:\n",
    "        return 'computer'"
   ]
  },
  {
   "cell_type": "code",
   "execution_count": 4,
   "metadata": {
    "collapsed": true
   },
   "outputs": [],
   "source": [
    "def getplayermove(board):\n",
    "    move = ' '\n",
    "    while move not in '1 2 3 4 5 6 7 8 9'.split() or not spaceisfree(board, move):\n",
    "        print('What is your move? Choose from 1-9')\n",
    "        move = input()\n",
    "    return move"
   ]
  },
  {
   "cell_type": "code",
   "execution_count": 5,
   "metadata": {
    "collapsed": true
   },
   "outputs": [],
   "source": [
    "def makemove(board, move, letter):\n",
    "    board[move] = letter"
   ]
  },
  {
   "cell_type": "code",
   "execution_count": 6,
   "metadata": {
    "collapsed": true
   },
   "outputs": [],
   "source": [
    "def iswinner(bo, le):\n",
    "    return (bo[1] == bo[2] == bo[3] == le or\n",
    "           bo[4] == bo[5] == bo[6] == le or\n",
    "           bo[7] == bo[8] == bo[9] == le or\n",
    "           bo[1] == bo[4] == bo[7] == le or\n",
    "           bo[2] == bo[5] == bo[8] == le or\n",
    "           bo[3] == bo[6] == bo[9] == le or\n",
    "           bo[1] == bo[5] == bo[9] == le or\n",
    "           bo[3] == bo[5] == bo[7] == le)"
   ]
  },
  {
   "cell_type": "code",
   "execution_count": 7,
   "metadata": {
    "collapsed": true
   },
   "outputs": [],
   "source": [
    "def boardisfull(board):\n",
    "    for i in range(1,10):\n",
    "        if spaceisfree(board, i):\n",
    "            return False\n",
    "    return True"
   ]
  },
  {
   "cell_type": "code",
   "execution_count": 8,
   "metadata": {
    "collapsed": false
   },
   "outputs": [],
   "source": [
    "import random\n",
    "def randommove(board, list):\n",
    "    possiblemoves = []\n",
    "    for i in list:\n",
    "        if spaceisfree(board, i):\n",
    "            possiblemoves.append(i)\n",
    "    if len(possiblemoves) != 0:\n",
    "        return random.choice(possiblemoves)"
   ]
  },
  {
   "cell_type": "code",
   "execution_count": 9,
   "metadata": {
    "collapsed": false
   },
   "outputs": [],
   "source": [
    "def getcomputermove(board, computerletter):\n",
    "    if computerletter == 'X':\n",
    "        playerletter = 'O'\n",
    "    else:\n",
    "        playerletter = 'X'\n",
    "    \n",
    "    k = 0\n",
    "    for i in range(1,10):\n",
    "        if spaceisfree(board, i):\n",
    "            k += 1\n",
    "    if k == 8:\n",
    "        for i in [1,3,7,9]:\n",
    "            if not spaceisfree(board, i):\n",
    "                if spaceisfree(board, 5):\n",
    "                    return 5\n",
    "    \n",
    "    for i in range(1,10):\n",
    "        if spaceisfree(board, i):\n",
    "            copy = board[:]\n",
    "            makemove(copy, i, computerletter)\n",
    "            if iswinner(copy, computerletter):\n",
    "                return i\n",
    "            \n",
    "    move = randommove(board, [1,3,7,9])\n",
    "    if move != None:\n",
    "        return move\n",
    "    if spaceisfree(board, 5):\n",
    "        return 5\n",
    "    \n",
    "    return randommove(board, [2,4,6,8])"
   ]
  },
  {
   "cell_type": "code",
   "execution_count": 10,
   "metadata": {
    "collapsed": false
   },
   "outputs": [],
   "source": [
    "def spaceisfree(board, move):\n",
    "    return board[int(move)] == ' '"
   ]
  },
  {
   "cell_type": "code",
   "execution_count": null,
   "metadata": {
    "collapsed": true
   },
   "outputs": [],
   "source": [
    "def playagain():\n",
    "    print('Do you want to play again? y or n')\n",
    "    if input().lower().startswith('y'):\n",
    "        return True"
   ]
  },
  {
   "cell_type": "code",
   "execution_count": null,
   "metadata": {
    "collapsed": false
   },
   "outputs": [
    {
     "name": "stdout",
     "output_type": "stream",
     "text": [
      "Do you want to be X? y or n\n"
     ]
    }
   ],
   "source": [
    "while True:\n",
    "    board = [' ']*10\n",
    "    playerletter, computerletter = getletters()\n",
    "    turn = whogoesfirst()\n",
    "    playgoeson = True\n",
    "    \n",
    "    while playgoeson:\n",
    "        if turn == 'player':\n",
    "            drawboard(board)\n",
    "            move = int(getplayermove(board))\n",
    "            makemove(board, move, playerletter)\n",
    "            \n",
    "            if iswinner(board, playerletter):\n",
    "                drawboard(board)\n",
    "                print('You win!')\n",
    "                playgoeson = False\n",
    "                \n",
    "            else:\n",
    "                if boardisfull(board):\n",
    "                    drawboard(board)\n",
    "                    print('Its a draw.')\n",
    "                    playgoeson = False\n",
    "                else:\n",
    "                    turn = 'computer'\n",
    "\n",
    "        else:\n",
    "            #turn = computer\n",
    "            move = int(getcomputermove(board, computerletter))\n",
    "            makemove(board, move, computerletter)\n",
    "            \n",
    "            if iswinner(board, computerletter):\n",
    "                drawboard(board)\n",
    "                print('You lose.')\n",
    "                playgoeson = False\n",
    "                \n",
    "            else:\n",
    "                if boardisfull(board):\n",
    "                    drawboard(board)\n",
    "                    print('Its a draw.')\n",
    "                    playgoeson = False\n",
    "                else:\n",
    "                    turn = 'player'\n",
    "    if not playagain():\n",
    "        break\n",
    "            "
   ]
  },
  {
   "cell_type": "code",
   "execution_count": null,
   "metadata": {
    "collapsed": true
   },
   "outputs": [],
   "source": []
  }
 ],
 "metadata": {
  "anaconda-cloud": {},
  "kernelspec": {
   "display_name": "Python [Root]",
   "language": "python",
   "name": "Python [Root]"
  },
  "language_info": {
   "codemirror_mode": {
    "name": "ipython",
    "version": 3
   },
   "file_extension": ".py",
   "mimetype": "text/x-python",
   "name": "python",
   "nbconvert_exporter": "python",
   "pygments_lexer": "ipython3",
   "version": "3.5.2"
  }
 },
 "nbformat": 4,
 "nbformat_minor": 0
}
